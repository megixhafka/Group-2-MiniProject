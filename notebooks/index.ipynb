{
 "cells": [
  {
   "attachments": {},
   "cell_type": "markdown",
   "metadata": {},
   "source": [
    "# Welcome to Group 2 Mini-Project Page\n",
    "\n",
    "To navigate to the part 1 example file go into this link: [PartOne](./PartOne.html).\n",
    "\n",
    "## The HTML file has:\n",
    "- A functioning Plotly graph + code\n",
    "- A Matplotlib graph \n",
    "- A Markdown title and text \n",
    "- A Markdown table \n",
    "- A Markdown equation using Latex \n",
    "- A colored Markdown text using HTML tags \n",
    "- An image, whose file is a part of the repository\n"
   ]
  },
  {
   "cell_type": "markdown",
   "metadata": {},
   "source": []
  }
 ],
 "metadata": {
  "language_info": {
   "name": "python"
  },
  "orig_nbformat": 4
 },
 "nbformat": 4,
 "nbformat_minor": 2
}
